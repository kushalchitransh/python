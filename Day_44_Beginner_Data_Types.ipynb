{
  "nbformat": 4,
  "nbformat_minor": 0,
  "metadata": {
    "colab": {
      "provenance": [],
      "authorship_tag": "ABX9TyOI/DC0J6BR9eRLEwNQwA14",
      "include_colab_link": true
    },
    "kernelspec": {
      "name": "python3",
      "display_name": "Python 3"
    },
    "language_info": {
      "name": "python"
    }
  },
  "cells": [
    {
      "cell_type": "markdown",
      "metadata": {
        "id": "view-in-github",
        "colab_type": "text"
      },
      "source": [
        "<a href=\"https://colab.research.google.com/github/kushalchitransh/python/blob/main/Day_44_Beginner_Data_Types.ipynb\" target=\"_parent\"><img src=\"https://colab.research.google.com/assets/colab-badge.svg\" alt=\"Open In Colab\"/></a>"
      ]
    },
    {
      "cell_type": "code",
      "execution_count": null,
      "metadata": {
        "colab": {
          "base_uri": "https://localhost:8080/",
          "height": 141
        },
        "id": "lZFCT3U2UPXG",
        "outputId": "7a2a7b33-73ce-47a4-8c61-3ad068bd309e"
      },
      "outputs": [
        {
          "output_type": "error",
          "ename": "SyntaxError",
          "evalue": "ignored",
          "traceback": [
            "\u001b[0;36m  File \u001b[0;32m\"<ipython-input-1-94dc08a36f35>\"\u001b[0;36m, line \u001b[0;32m1\u001b[0m\n\u001b[0;31m    print(123\"\\n\")\u001b[0m\n\u001b[0m          ^\u001b[0m\n\u001b[0;31mSyntaxError\u001b[0m\u001b[0;31m:\u001b[0m invalid syntax. Perhaps you forgot a comma?\n"
          ]
        }
      ],
      "source": [
        "print(123\"\\n\")"
      ]
    },
    {
      "cell_type": "code",
      "source": [
        "\n",
        "print(\"Start\")\n",
        "print(123,\"\\n\")\n",
        "print(\"End\")"
      ],
      "metadata": {
        "colab": {
          "base_uri": "https://localhost:8080/"
        },
        "id": "tg65uG_2dHCe",
        "outputId": "03c22297-2218-4081-894b-12b201688fa0"
      },
      "execution_count": null,
      "outputs": [
        {
          "output_type": "stream",
          "name": "stdout",
          "text": [
            "Start\n",
            "123 \n",
            "\n",
            "End\n"
          ]
        }
      ]
    },
    {
      "cell_type": "code",
      "source": [
        "print(\"Ronaldo\",\"\\n\", sep=\"--\",end=\"<this is end>\")"
      ],
      "metadata": {
        "colab": {
          "base_uri": "https://localhost:8080/"
        },
        "id": "uivHrdxXdx8K",
        "outputId": "23c709f3-a0ee-457a-ac2d-43ad5890593f"
      },
      "execution_count": null,
      "outputs": [
        {
          "output_type": "stream",
          "name": "stdout",
          "text": [
            "Ronaldo--\n",
            "<this is end>"
          ]
        }
      ]
    },
    {
      "cell_type": "code",
      "source": [
        "print(\"Leonardo\",\"\\n\",\"De\", sep=\"--\",end=\"<this is end>\")\n",
        "print(\"Caprio\")"
      ],
      "metadata": {
        "colab": {
          "base_uri": "https://localhost:8080/"
        },
        "id": "PqHlrypJd8ve",
        "outputId": "90eb9c68-573a-4c78-881a-0f5fcc4f4656"
      },
      "execution_count": null,
      "outputs": [
        {
          "output_type": "stream",
          "name": "stdout",
          "text": [
            "Leonardo--\n",
            "--De<this is end>Caprio\n"
          ]
        }
      ]
    },
    {
      "cell_type": "code",
      "source": [
        "print(20+21.23)"
      ],
      "metadata": {
        "id": "t0dytK1ufPUi",
        "outputId": "761d657a-67a0-42c7-b6bd-ef7586a113be",
        "colab": {
          "base_uri": "https://localhost:8080/"
        }
      },
      "execution_count": null,
      "outputs": [
        {
          "output_type": "stream",
          "name": "stdout",
          "text": [
            "41.230000000000004\n"
          ]
        }
      ]
    },
    {
      "cell_type": "code",
      "source": [],
      "metadata": {
        "id": "uMMRzdLFfS5W"
      },
      "execution_count": null,
      "outputs": []
    }
  ]
}