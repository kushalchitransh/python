{
  "nbformat": 4,
  "nbformat_minor": 0,
  "metadata": {
    "colab": {
      "provenance": [],
      "authorship_tag": "ABX9TyMFp3ywHlewND3mD6e5ZIHy",
      "include_colab_link": true
    },
    "kernelspec": {
      "name": "python3",
      "display_name": "Python 3"
    },
    "language_info": {
      "name": "python"
    }
  },
  "cells": [
    {
      "cell_type": "markdown",
      "metadata": {
        "id": "view-in-github",
        "colab_type": "text"
      },
      "source": [
        "<a href=\"https://colab.research.google.com/github/kushalchitransh/python/blob/main/Beginner_Introduction_to_Python_18_09_2023.ipynb\" target=\"_parent\"><img src=\"https://colab.research.google.com/assets/colab-badge.svg\" alt=\"Open In Colab\"/></a>"
      ]
    },
    {
      "cell_type": "code",
      "execution_count": null,
      "metadata": {
        "colab": {
          "base_uri": "https://localhost:8080/"
        },
        "id": "3KLuaP4ZE3Gi",
        "outputId": "07729cf9-cb31-4c63-aabd-b5680e9d4900"
      },
      "outputs": [
        {
          "output_type": "stream",
          "name": "stdout",
          "text": [
            "hi\n"
          ]
        }
      ],
      "source": [
        "print('hi')"
      ]
    },
    {
      "cell_type": "code",
      "source": [
        "print('Shortcut to run code cell is shift and enter')"
      ],
      "metadata": {
        "colab": {
          "base_uri": "https://localhost:8080/"
        },
        "id": "qrRsh9qoJ4Lq",
        "outputId": "1ebaf3dd-add0-488d-99b2-586cdde259a7"
      },
      "execution_count": null,
      "outputs": [
        {
          "output_type": "stream",
          "name": "stdout",
          "text": [
            "Shortcut to run code cell is shift and enter\n"
          ]
        }
      ]
    },
    {
      "cell_type": "code",
      "source": [
        "print(None)"
      ],
      "metadata": {
        "colab": {
          "base_uri": "https://localhost:8080/"
        },
        "id": "6c783MB7J-4w",
        "outputId": "483460e0-2294-492a-a6da-7b3c6c94ebd4"
      },
      "execution_count": null,
      "outputs": [
        {
          "output_type": "stream",
          "name": "stdout",
          "text": [
            "None\n"
          ]
        }
      ]
    },
    {
      "cell_type": "code",
      "source": [
        "name='Kushal Shrivastava'\n",
        "print(name)"
      ],
      "metadata": {
        "colab": {
          "base_uri": "https://localhost:8080/"
        },
        "id": "GbFvcfJHTpjN",
        "outputId": "68d05659-f863-416c-ae63-a90d6a25381b"
      },
      "execution_count": null,
      "outputs": [
        {
          "output_type": "stream",
          "name": "stdout",
          "text": [
            "Kushal Shrivastava\n"
          ]
        }
      ]
    },
    {
      "cell_type": "code",
      "source": [
        "name='Kushal Shrivastava'\n",
        "print(name)"
      ],
      "metadata": {
        "colab": {
          "base_uri": "https://localhost:8080/"
        },
        "id": "4o6vuWPPTw31",
        "outputId": "335ccb12-305e-47c5-ddd5-99af6c1f9005"
      },
      "execution_count": null,
      "outputs": [
        {
          "output_type": "stream",
          "name": "stdout",
          "text": [
            "Kushal Shrivastava\n"
          ]
        }
      ]
    },
    {
      "cell_type": "code",
      "source": [
        "name='Kushal Shrivastava'\n",
        "print(name)\n",
        "print(type(name))"
      ],
      "metadata": {
        "colab": {
          "base_uri": "https://localhost:8080/"
        },
        "id": "t2yFO9sOT_nL",
        "outputId": "fa383c07-ab0f-46d4-a741-a201cc13c91f"
      },
      "execution_count": null,
      "outputs": [
        {
          "output_type": "stream",
          "name": "stdout",
          "text": [
            "Kushal Shrivastava\n",
            "<class 'str'>\n"
          ]
        }
      ]
    },
    {
      "cell_type": "code",
      "source": [
        "a=input()\n",
        "print('Hey I got',a)"
      ],
      "metadata": {
        "colab": {
          "base_uri": "https://localhost:8080/"
        },
        "id": "fSQ8y4IeUDpK",
        "outputId": "5e2c4ad1-acab-47da-ab87-e824d489a991"
      },
      "execution_count": null,
      "outputs": [
        {
          "output_type": "stream",
          "name": "stdout",
          "text": [
            "Helloooo\n",
            "Hey I got Helloooo\n"
          ]
        }
      ]
    },
    {
      "cell_type": "code",
      "source": [
        "a=input('Hey User what is your age ')\n",
        "print('Hey I got your age is',a)"
      ],
      "metadata": {
        "colab": {
          "base_uri": "https://localhost:8080/"
        },
        "id": "L01vS9hZW-TJ",
        "outputId": "42bd6e34-7332-433d-fe77-03c00f3d6830"
      },
      "execution_count": null,
      "outputs": [
        {
          "output_type": "stream",
          "name": "stdout",
          "text": [
            "Hey User what is your age 20\n",
            "Hey I got your age is 20\n"
          ]
        }
      ]
    },
    {
      "cell_type": "code",
      "source": [
        "a=input('Hey User what is your age ')\n",
        "print('Hey I got your age is',int(a)+1)\n"
      ],
      "metadata": {
        "colab": {
          "base_uri": "https://localhost:8080/"
        },
        "id": "ztfU9EQvXkbu",
        "outputId": "439fda2e-0920-4a1c-b6aa-9ecd2fb3bd60"
      },
      "execution_count": null,
      "outputs": [
        {
          "output_type": "stream",
          "name": "stdout",
          "text": [
            "Hey User what is your age 21\n",
            "Hey I got your age is 22\n"
          ]
        }
      ]
    },
    {
      "cell_type": "code",
      "source": [],
      "metadata": {
        "id": "-7P1YQB8YaOy"
      },
      "execution_count": null,
      "outputs": []
    }
  ]
}